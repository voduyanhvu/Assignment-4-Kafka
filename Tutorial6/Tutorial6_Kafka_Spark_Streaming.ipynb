{
 "cells": [
  {
   "cell_type": "code",
   "execution_count": 1,
   "id": "9129a266-293a-40e9-b7be-8013094beddc",
   "metadata": {},
   "outputs": [
    {
     "data": {
      "text/html": [
       "\n",
       "            <div>\n",
       "                <p><b>SparkSession - in-memory</b></p>\n",
       "                \n",
       "        <div>\n",
       "            <p><b>SparkContext</b></p>\n",
       "\n",
       "            <p><a href=\"http://DESKTOP-KLAO2DE:4041\">Spark UI</a></p>\n",
       "\n",
       "            <dl>\n",
       "              <dt>Version</dt>\n",
       "                <dd><code>v3.4.1</code></dd>\n",
       "              <dt>Master</dt>\n",
       "                <dd><code>local</code></dd>\n",
       "              <dt>AppName</dt>\n",
       "                <dd><code>kafka-example</code></dd>\n",
       "            </dl>\n",
       "        </div>\n",
       "        \n",
       "            </div>\n",
       "        "
      ],
      "text/plain": [
       "<pyspark.sql.session.SparkSession at 0x2a0368a3fa0>"
      ]
     },
     "execution_count": 1,
     "metadata": {},
     "output_type": "execute_result"
    }
   ],
   "source": [
    "import findspark\n",
    "findspark.init()\n",
    "\n",
    "import pyspark\n",
    "from pyspark.sql import SparkSession\n",
    "\n",
    "scala_version = '2.12'\n",
    "spark_version = '3.4.1'\n",
    "packages = [\n",
    "    f'org.apache.spark:spark-sql-kafka-0-10_{scala_version}:{spark_version}',\n",
    "    'org.apache.kafka:kafka-clients:2.13.0'\n",
    "]\n",
    "\n",
    "spark = SparkSession.builder.master(\"local\").appName(\"kafka-example\").config(\"spark.jars.packages\",\",\".join(packages)).getOrCreate()\n",
    "spark"
   ]
  },
  {
   "cell_type": "code",
   "execution_count": 5,
   "id": "e1b15cd2-191f-4ac5-a7f8-685f81edd263",
   "metadata": {},
   "outputs": [],
   "source": [
    "topic_name = 'RandomNumber'\n",
    "kafka_server = 'localhost:9092'\n",
    "\n",
    "# Construct a streaming DataFrame that reads from test-topic\n",
    "kafka_Df = spark \\\n",
    "        .read \\\n",
    "        .format(\"kafka\") \\\n",
    "        .option(\"kafka.bootstrap.servers\", kafka_server) \\\n",
    "        .option(\"subscribe\", topic_name) \\\n",
    "        .option(\"startingOffsets\", \"earliest\") \\\n",
    "        .load()"
   ]
  },
  {
   "cell_type": "code",
   "execution_count": 7,
   "id": "b0c27258-692c-4c77-b0c0-9c40a25c8984",
   "metadata": {},
   "outputs": [
    {
     "name": "stdout",
     "output_type": "stream",
     "text": [
      "+----+--------------------+------------+---------+------+--------------------+-------------+\n",
      "| key|               value|       topic|partition|offset|           timestamp|timestampType|\n",
      "+----+--------------------+------------+---------+------+--------------------+-------------+\n",
      "|null|[7B 22 6E 75 6D 6...|RandomNumber|        0|     0|2023-08-24 17:12:...|            0|\n",
      "|null|[7B 22 6E 75 6D 6...|RandomNumber|        0|     1|2023-08-24 17:12:...|            0|\n",
      "|null|[7B 22 6E 75 6D 6...|RandomNumber|        0|     2|2023-08-24 17:12:...|            0|\n",
      "|null|[7B 22 6E 75 6D 6...|RandomNumber|        0|     3|2023-08-24 17:13:...|            0|\n",
      "|null|[7B 22 6E 75 6D 6...|RandomNumber|        0|     4|2023-08-24 17:13:...|            0|\n",
      "|null|[7B 22 6E 75 6D 6...|RandomNumber|        0|     5|2023-08-24 17:13:...|            0|\n",
      "|null|[7B 22 6E 75 6D 6...|RandomNumber|        0|     6|2023-08-24 17:13:...|            0|\n",
      "|null|[7B 22 6E 75 6D 6...|RandomNumber|        0|     7|2023-08-24 17:13:...|            0|\n",
      "|null|[7B 22 6E 75 6D 6...|RandomNumber|        0|     8|2023-08-24 17:13:...|            0|\n",
      "|null|[7B 22 6E 75 6D 6...|RandomNumber|        0|     9|2023-08-24 17:13:...|            0|\n",
      "|null|[7B 22 6E 75 6D 6...|RandomNumber|        0|    10|2023-08-24 17:13:...|            0|\n",
      "|null|[7B 22 6E 75 6D 6...|RandomNumber|        0|    11|2023-08-24 17:13:...|            0|\n",
      "|null|[7B 22 6E 75 6D 6...|RandomNumber|        0|    12|2023-08-24 17:13:...|            0|\n",
      "|null|[7B 22 6E 75 6D 6...|RandomNumber|        0|    13|2023-08-24 17:13:...|            0|\n",
      "|null|[7B 22 6E 75 6D 6...|RandomNumber|        0|    14|2023-08-24 17:13:...|            0|\n",
      "|null|[7B 22 6E 75 6D 6...|RandomNumber|        0|    15|2023-08-24 17:14:...|            0|\n",
      "|null|[7B 22 6E 75 6D 6...|RandomNumber|        0|    16|2023-08-24 17:14:...|            0|\n",
      "|null|[7B 22 6E 75 6D 6...|RandomNumber|        0|    17|2023-08-24 17:14:...|            0|\n",
      "|null|[7B 22 6E 75 6D 6...|RandomNumber|        0|    18|2023-08-24 17:14:...|            0|\n",
      "|null|[7B 22 6E 75 6D 6...|RandomNumber|        0|    19|2023-08-24 17:14:...|            0|\n",
      "+----+--------------------+------------+---------+------+--------------------+-------------+\n",
      "only showing top 20 rows\n",
      "\n"
     ]
    }
   ],
   "source": [
    "kafka_Df.show()"
   ]
  },
  {
   "cell_type": "code",
   "execution_count": 10,
   "id": "408a1ffc-00ff-46e5-a7dd-556a61f67102",
   "metadata": {},
   "outputs": [
    {
     "name": "stdout",
     "output_type": "stream",
     "text": [
      "Showing live view refreshed every 5 seconds\n",
      "Seconds passed: 310\n",
      "+------------+------+-----------+\n",
      "|       topic|offset|rand_number|\n",
      "+------------+------+-----------+\n",
      "|RandomNumber|     0|          0|\n",
      "|RandomNumber|     1|          1|\n",
      "|RandomNumber|     2|          2|\n",
      "|RandomNumber|     3|          3|\n",
      "|RandomNumber|     4|          4|\n",
      "|RandomNumber|     5|          5|\n",
      "|RandomNumber|     6|          6|\n",
      "|RandomNumber|     7|          7|\n",
      "|RandomNumber|     8|          8|\n",
      "|RandomNumber|     9|          9|\n",
      "|RandomNumber|    10|          1|\n",
      "|RandomNumber|    11|          1|\n",
      "|RandomNumber|    12|          1|\n",
      "|RandomNumber|    13|          1|\n",
      "|RandomNumber|    14|          1|\n",
      "|RandomNumber|    15|          1|\n",
      "|RandomNumber|    16|          1|\n",
      "|RandomNumber|    17|          1|\n",
      "|RandomNumber|    18|          1|\n",
      "|RandomNumber|    19|          1|\n",
      "+------------+------+-----------+\n",
      "only showing top 20 rows\n",
      "\n"
     ]
    },
    {
     "data": {
      "text/plain": [
       "None"
      ]
     },
     "metadata": {},
     "output_type": "display_data"
    },
    {
     "name": "stdout",
     "output_type": "stream",
     "text": [
      "break\n",
      "Live view ended...\n"
     ]
    }
   ],
   "source": [
    "from pyspark.sql.functions import col\n",
    "\n",
    "batchDF = kafka_Df.select(col('topic'),col('offset'),col('value').cast('string').substr(12,1).alias('rand_number'))\n",
    "from time import sleep\n",
    "from IPython.display import display, clear_output\n",
    "\n",
    "for x in range(0, 2000):\n",
    "    try:\n",
    "        print(\"Showing live view refreshed every 5 seconds\")\n",
    "        print(f\"Seconds passed: {x*5}\")\n",
    "        display(batchDF.show())\n",
    "        sleep(5)\n",
    "        clear_output(wait=True)\n",
    "    except KeyboardInterrupt:\n",
    "        print(\"break\")\n",
    "        break\n",
    "print(\"Live view ended...\")"
   ]
  },
  {
   "cell_type": "code",
   "execution_count": 11,
   "id": "20a1fa37-ecd8-46cf-803c-19ae8c14930b",
   "metadata": {},
   "outputs": [
    {
     "name": "stdout",
     "output_type": "stream",
     "text": [
      "Showing live view refreshed every 5 seconds\n",
      "Seconds passed: 10\n",
      "+------------+------+-----------+\n",
      "|       topic|offset|rand_number|\n",
      "+------------+------+-----------+\n",
      "|RandomNumber|     0|          0|\n",
      "|RandomNumber|     1|          1|\n",
      "|RandomNumber|     2|          2|\n",
      "|RandomNumber|     3|          3|\n",
      "|RandomNumber|     4|          4|\n",
      "|RandomNumber|     5|          5|\n",
      "|RandomNumber|     6|          6|\n",
      "|RandomNumber|     7|          7|\n",
      "|RandomNumber|     8|          8|\n",
      "|RandomNumber|     9|          9|\n",
      "|RandomNumber|    10|          1|\n",
      "|RandomNumber|    11|          1|\n",
      "|RandomNumber|    12|          1|\n",
      "|RandomNumber|    13|          1|\n",
      "|RandomNumber|    14|          1|\n",
      "|RandomNumber|    15|          1|\n",
      "|RandomNumber|    16|          1|\n",
      "|RandomNumber|    17|          1|\n",
      "|RandomNumber|    18|          1|\n",
      "|RandomNumber|    19|          1|\n",
      "+------------+------+-----------+\n",
      "only showing top 20 rows\n",
      "\n"
     ]
    },
    {
     "data": {
      "text/plain": [
       "None"
      ]
     },
     "metadata": {},
     "output_type": "display_data"
    },
    {
     "name": "stdout",
     "output_type": "stream",
     "text": [
      "break\n",
      "Live view ended...\n"
     ]
    }
   ],
   "source": [
    "batchCountDF = batchDF.groupBy('rand_number').count()\n",
    "for x in range(0, 2000):\n",
    "    try:\n",
    "        print(\"Showing live view refreshed every 5 seconds\")\n",
    "        print(f\"Seconds passed: {x*5}\")\n",
    "        display(batchDF.show())\n",
    "        sleep(5)\n",
    "        clear_output(wait=True)\n",
    "    except KeyboardInterrupt:\n",
    "        print(\"break\")\n",
    "        break\n",
    "print(\"Live view ended...\")"
   ]
  },
  {
   "cell_type": "code",
   "execution_count": 3,
   "id": "06c0cc10-7045-45fe-8fcb-03303a05cc8f",
   "metadata": {},
   "outputs": [],
   "source": [
    "from pyspark.sql.functions import col\n",
    "\n",
    "topic_name = 'RandomNumber'\n",
    "kafka_server = 'localhost:9092'\n",
    "\n",
    "streamRawDf = spark.readStream.format(\"kafka\").option(\"kafka.bootstrap.servers\", kafka_server).option(\"subscribe\", topic_name).load()\n",
    "streamDF = streamRawDf.select(col('topic'),col('offset'),col('value').cast('string').substr(12,1).alias('rand_number'))\n",
    "checkEvenDF = streamDF.withColumn('Is_Even',col('rand_number').cast('int') % 2 == 0 )"
   ]
  },
  {
   "cell_type": "code",
   "execution_count": 4,
   "id": "ebcac656-dc27-4e38-91f9-2e366d4957f1",
   "metadata": {},
   "outputs": [],
   "source": [
    "from random import randint\n",
    "randNum=str(randint(0,10000))\n",
    "q1name = \"queryNumber\"+randNum\n",
    "q2name = \"queryCheckEven\"+randNum\n",
    "stream_writer1 = (streamDF.writeStream.queryName(q1name).trigger(processingTime=\"5 seconds\").outputMode(\"append\").format(\"memory\"))\n",
    "stream_writer2 = (checkEvenDF.writeStream.queryName(q2name).trigger(processingTime=\"5 seconds\").outputMode(\"append\").format(\"memory\"))\n",
    "query1 = stream_writer1.start()\n",
    "query2 = stream_writer2.start()"
   ]
  },
  {
   "cell_type": "code",
   "execution_count": 7,
   "id": "434322de-0c88-4733-8192-2ae7595e1217",
   "metadata": {},
   "outputs": [
    {
     "name": "stdout",
     "output_type": "stream",
     "text": [
      "Showing live view refreshed every 5 seconds\n",
      "Seconds passed: 165\n",
      "+-----+------+-----------+\n",
      "|topic|offset|rand_number|\n",
      "+-----+------+-----------+\n",
      "+-----+------+-----------+\n",
      "\n"
     ]
    },
    {
     "data": {
      "text/plain": [
       "None"
      ]
     },
     "metadata": {},
     "output_type": "display_data"
    },
    {
     "name": "stdout",
     "output_type": "stream",
     "text": [
      "+-----+------+-----------+-------+\n",
      "|topic|offset|rand_number|Is_Even|\n",
      "+-----+------+-----------+-------+\n",
      "+-----+------+-----------+-------+\n",
      "\n"
     ]
    },
    {
     "data": {
      "text/plain": [
       "None"
      ]
     },
     "metadata": {},
     "output_type": "display_data"
    },
    {
     "name": "stdout",
     "output_type": "stream",
     "text": [
      "break\n",
      "Live view ended...\n"
     ]
    }
   ],
   "source": [
    "from time import sleep\n",
    "from IPython.display import display, clear_output\n",
    "\n",
    "for x in range(0, 2000):\n",
    "    try:\n",
    "        print(\"Showing live view refreshed every 5 seconds\")\n",
    "        print(f\"Seconds passed: {x*5}\")\n",
    "        result1 = spark.sql(f\"SELECT * from {query1.name}\")\n",
    "        result2 = spark.sql(f\"SELECT * from {query2.name}\")\n",
    "        display(result1.show())\n",
    "        display(result2.show())\n",
    "        sleep(5)\n",
    "        clear_output(wait=True)\n",
    "    except KeyboardInterrupt:\n",
    "        print(\"break\")\n",
    "        break\n",
    "print(\"Live view ended...\")"
   ]
  },
  {
   "cell_type": "code",
   "execution_count": null,
   "id": "98e377f2-da9a-42a8-b6bc-dd4e27746939",
   "metadata": {},
   "outputs": [],
   "source": []
  }
 ],
 "metadata": {
  "kernelspec": {
   "display_name": "Python 3 (ipykernel)",
   "language": "python",
   "name": "python3"
  },
  "language_info": {
   "codemirror_mode": {
    "name": "ipython",
    "version": 3
   },
   "file_extension": ".py",
   "mimetype": "text/x-python",
   "name": "python",
   "nbconvert_exporter": "python",
   "pygments_lexer": "ipython3",
   "version": "3.9.16"
  }
 },
 "nbformat": 4,
 "nbformat_minor": 5
}
