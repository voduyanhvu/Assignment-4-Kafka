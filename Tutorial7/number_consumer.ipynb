{
 "cells": [
  {
   "cell_type": "code",
   "execution_count": 2,
   "id": "175202ca-d37a-4eb2-a9a3-bf3b8fb2808f",
   "metadata": {},
   "outputs": [
    {
     "name": "stdout",
     "output_type": "stream",
     "text": [
      "Connected to MongoDB.\n",
      "Server version: 7.0.0\n"
     ]
    }
   ],
   "source": [
    "from pymongo import MongoClient\n",
    "\n",
    "try:\n",
    "    client = MongoClient('localhost:27017')\n",
    "    db = client.admin  # You can use any valid database name here\n",
    "    server_info = db.command('serverStatus')\n",
    "    print(\"Connected to MongoDB.\")\n",
    "    print(\"Server version:\", server_info['version'])\n",
    "except Exception as e:\n",
    "    print(\"Error:\", e)"
   ]
  },
  {
   "cell_type": "code",
   "execution_count": null,
   "id": "becb1f44-c141-4503-9833-61e76e184cf0",
   "metadata": {},
   "outputs": [],
   "source": [
    "from kafka import KafkaConsumer\n",
    "from pymongo import MongoClient\n",
    "from json import loads\n",
    "\n",
    "topic_name = 'num_test'\n",
    "consumer = KafkaConsumer(\n",
    "    topic_name,\n",
    "    bootstrap_servers=['localhost:9092'],\n",
    "    auto_offset_reset= 'earliest',\n",
    "    enable_auto_commit=True,\n",
    "    group_id= 'my-group',\n",
    "    value_deserializer=lambda x: loads(x.decode('utf-8')))\n",
    "\n",
    "client = MongoClient('localhost:27017')\n",
    "collection = client.numtest.numtest\n",
    "try:\n",
    "    for message in consumer:\n",
    "        message = message.value\n",
    "        collection.insert_one(message)\n",
    "        print('{} added to {}'.format(message, collection))\n",
    "except Exception as e:\n",
    "    print(\"An error occurred:\", str(e))"
   ]
  },
  {
   "cell_type": "code",
   "execution_count": null,
   "id": "bca0e0b0-cebd-4596-883f-ea61cb7f7481",
   "metadata": {},
   "outputs": [],
   "source": []
  }
 ],
 "metadata": {
  "kernelspec": {
   "display_name": "Python 3 (ipykernel)",
   "language": "python",
   "name": "python3"
  },
  "language_info": {
   "codemirror_mode": {
    "name": "ipython",
    "version": 3
   },
   "file_extension": ".py",
   "mimetype": "text/x-python",
   "name": "python",
   "nbconvert_exporter": "python",
   "pygments_lexer": "ipython3",
   "version": "3.9.16"
  }
 },
 "nbformat": 4,
 "nbformat_minor": 5
}
